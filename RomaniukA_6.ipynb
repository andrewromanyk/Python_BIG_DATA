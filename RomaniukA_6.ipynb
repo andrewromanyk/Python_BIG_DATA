{
  "nbformat": 4,
  "nbformat_minor": 0,
  "metadata": {
    "colab": {
      "provenance": []
    },
    "kernelspec": {
      "name": "python3",
      "language": "python",
      "display_name": "Python 3 (ipykernel)"
    },
    "language_info": {
      "name": "python"
    }
  },
  "cells": [
    {
      "cell_type": "markdown",
      "source": [
        "# I. Docstrings."
      ],
      "metadata": {
        "id": "5qvkYXU42nND"
      }
    },
    {
      "cell_type": "markdown",
      "source": [
        "1. Що таке docstrings? Навіщо вони потрібні?"
      ],
      "metadata": {
        "id": "7VUggLjZ4NNb"
      }
    },
    {
      "cell_type": "markdown",
      "source": [
        "docstring це багато рядковий коментар до функції, класу та ін., що документує та коротко пояснює роботу зазначеної частини коду. Вони потрібні задля легшого розуміння роботи функції, класу, etc. та ефективнішої роботи з ними"
      ],
      "metadata": {
        "id": "_oqTO_30GlHj"
      }
    },
    {
      "cell_type": "markdown",
      "source": [
        "2. Створіть docstrings для функції, що розраховує суму двох цілих чисел та повертає їхню суму."
      ],
      "metadata": {
        "id": "bRumAhtgG3jV"
      }
    },
    {
      "cell_type": "code",
      "source": [
        "\"\"\"\n",
        "Calculates and returns sum of 2 integers.\n",
        "\n",
        "Examples:\n",
        "    >>> add_ints(1, 1)\n",
        "    2\n",
        "    >>> add_ints(100, -2)\n",
        "    98\n",
        "\n",
        "Args:\n",
        "    num_1 (int): first number\n",
        "    num_2 (int): second number\n",
        "\n",
        "Returns:\n",
        "    int: sum of the two numbers.\n",
        "\"\"\""
      ],
      "metadata": {
        "id": "G_xCtwQGGkew"
      },
      "execution_count": null,
      "outputs": []
    },
    {
      "cell_type": "markdown",
      "source": [
        "3. Визначте функцію, що розраховує суму двох цілих чисел та повертає їхню суму, використовуючи документацію з завдання 2."
      ],
      "metadata": {
        "id": "gibK8CjDHBfc"
      }
    },
    {
      "cell_type": "code",
      "execution_count": null,
      "metadata": {
        "id": "wh5tMJgh0zer",
        "ExecuteTime": {
          "end_time": "2024-03-10T18:13:29.808122900Z",
          "start_time": "2024-03-10T18:13:29.799740700Z"
        }
      },
      "outputs": [],
      "source": [
        "def add_ints(num_1, num_2):\n",
        "    return num_1 + num_2"
      ]
    },
    {
      "cell_type": "markdown",
      "source": [
        "4. Створіть docstring для функції, що перевіряє, чи є число простим. Увага: під час виклику функції ми очікуємо, що користувач(ка) може подати на вхід будь-який тип обʼєкту. У випадку, якщо на вході не підходящий тип даних, маємо кинути помилку."
      ],
      "metadata": {
        "id": "PI-mNDQNIDUm"
      }
    },
    {
      "cell_type": "code",
      "source": [
        "\"\"\"\n",
        "Checks if number is prime. Raises ValueError if argument is not an integer.\n",
        "\n",
        "Examples:\n",
        "    >>> is_prime(100)\n",
        "    False\n",
        "    >>> is_prime(17)\n",
        "    True\n",
        "\n",
        "Args:\n",
        "    num (int): number to be checked\n",
        "\n",
        "Returns:\n",
        "    bool: True if number is prime, False otherwise.\n",
        "\n",
        "Raises:\n",
        "    ValueError: if argument is not an integer.\n",
        "\n",
        "\"\"\""
      ],
      "metadata": {
        "id": "3nTbEkJ0I4Gn"
      },
      "execution_count": null,
      "outputs": []
    },
    {
      "cell_type": "markdown",
      "source": [
        "5. Визначте функцію, яка перевіряє, чи є число простим, використовуючи документацію з завдання 4."
      ],
      "metadata": {
        "id": "OMRx9emvI4NM"
      }
    },
    {
      "cell_type": "code",
      "source": [
        "def is_prime(num):\n",
        "    if not isinstance(num, int): raise ValueError(\"The argument value must be an integer.\")\n",
        "    if num < 2 or num % 2 == 0: return False\n",
        "    for i in range(3, num, 2):\n",
        "        print(i)\n",
        "        if num % i == 0: return False\n",
        "    return True"
      ],
      "metadata": {
        "id": "wONHC4OEJARD",
        "ExecuteTime": {
          "end_time": "2024-03-10T18:15:26.690273400Z",
          "start_time": "2024-03-10T18:15:26.685271200Z"
        }
      },
      "execution_count": null,
      "outputs": []
    },
    {
      "cell_type": "markdown",
      "source": [
        "6. Створіть docstring для функції, що повертає найдовший спільний префікс двох рядків не залежно від регістру. Обовʼязково включіть два приклади згідно формату."
      ],
      "metadata": {
        "id": "1r9WQ5Y9JULV"
      }
    },
    {
      "cell_type": "code",
      "source": [
        "\"\"\"\n",
        "Returns the longest common prefix of two strings. Register is ignored.\n",
        "\n",
        "Examples:\n",
        "    >>> longest_prefix(\"Hello World!\", \"Hello Sky!\")\n",
        "    \"Hello \"\n",
        "    >>> longest_prefix(\"No\", \"Yes\")\n",
        "    \"\"\n",
        "\n",
        "Args:\n",
        "    str1 (str): first string\n",
        "    str2 (str): second string\n",
        "\n",
        "Returns:\n",
        "    str: longest common prefix of the two given strings.\n",
        "\n",
        "Raises:\n",
        "    ValueError: if one of the arguments is not a string.\n",
        "\"\"\""
      ],
      "metadata": {
        "id": "mqTHuBGsKY2V"
      },
      "execution_count": null,
      "outputs": []
    },
    {
      "cell_type": "markdown",
      "source": [
        "7. Реалізуйте функцію згідно документації із завдання 6, використовуючи її."
      ],
      "metadata": {
        "id": "ZVkQ4jo2KZrx"
      }
    },
    {
      "cell_type": "code",
      "source": [
        "def longest_prefix(str1, str2):\n",
        "    if not isinstance(str1, str) or not isinstance(str2, str): raise ValueError(\"One of the arguments is not a string.\")\n",
        "    prefix = \"\"\n",
        "    for i in range(min(len(str1), len(str2))):\n",
        "        if str1[i] == str2[i]: prefix += str1[i]\n",
        "        else: return prefix"
      ],
      "metadata": {
        "id": "e1odBJATKd7L",
        "ExecuteTime": {
          "end_time": "2024-03-10T18:15:29.995697Z",
          "start_time": "2024-03-10T18:15:29.989176Z"
        }
      },
      "execution_count": null,
      "outputs": []
    },
    {
      "cell_type": "markdown",
      "source": [
        "8. Створіть docstring для функції, що розраховує суму щомісячного платежу по єОселі."
      ],
      "metadata": {
        "id": "OXbxPfuZKlQb"
      }
    },
    {
      "cell_type": "code",
      "source": [
        "\"\"\"\n",
        "Calculates the sum for monthly payment.\n",
        "\n",
        "Examples:\n",
        "    >>> monthly_payment(50.5, 27478, 4, 2.99)\n",
        "    29773.0\n",
        "    >>> monthly_payment(45.3, 34412, 5, 4.2)\n",
        "    27072.0\n",
        "\n",
        "Args:\n",
        "    area (float): are of the flat\n",
        "    meter_price (float): price per square meter\n",
        "    years (int): amount pf year over which payments will be done\n",
        "    percentage (float): annual percentage of payment interest\n",
        "\n",
        "Returns:\n",
        "    int: calculated sum of monthly payments\n",
        "\n",
        "Raises:\n",
        "    ValueError: if percentage is more than 5, or if years is more than 6, or if area is more than 52.5, or if years is not an integer\n",
        "\"\"\""
      ],
      "metadata": {
        "id": "iFGckfs3KqHq"
      },
      "execution_count": null,
      "outputs": []
    },
    {
      "cell_type": "markdown",
      "source": [
        "9. Використовуючи документацію із завдання 8, реалізуйте відповідну функцію."
      ],
      "metadata": {
        "id": "xQjsUPhAOUq1"
      }
    },
    {
      "cell_type": "code",
      "outputs": [],
      "source": [
        "def monthly_payment(area, meter_price, years, percentage):\n",
        "    if percentage > 5: raise ValueError(\"Percentage must not be between over 5.\")\n",
        "    if years > 6: raise ValueError(\"Years must be less than 6.\")\n",
        "    if area > 52.5: raise ValueError(\"Flat's area can't be over 52.5 square meters.\")\n",
        "    if not isinstance(years, int): raise ValueError(\"Amount of years must be an integer.\")\n",
        "    price = area*meter_price*0.2\n",
        "    yearly = price/years\n",
        "    yearly *= 1+percentage/100\n",
        "    return yearly//12"
      ],
      "metadata": {
        "ExecuteTime": {
          "end_time": "2024-03-10T18:15:32.079602500Z",
          "start_time": "2024-03-10T18:15:32.075093300Z"
        },
        "id": "Bo-VwJNXlfc5"
      },
      "execution_count": null
    },
    {
      "cell_type": "markdown",
      "source": [
        "# II. Errors and exceptions handling."
      ],
      "metadata": {
        "id": "uPyZWU1r2q-s"
      }
    },
    {
      "cell_type": "markdown",
      "source": [
        "10. Реалізуйте функцію, яка отримує значення зі словника за ключем та повертає його, а за умови відсутності ключа відловлює KeyError."
      ],
      "metadata": {
        "id": "GJAVQ9SJbARP"
      }
    },
    {
      "cell_type": "code",
      "source": [
        "def get_from_dict(dictionary, key):\n",
        "    try:\n",
        "        return dictionary[key]\n",
        "    except KeyError as e:\n",
        "        print(\"No such key in a dictionary\")"
      ],
      "metadata": {
        "id": "01YDTgxI4IK7",
        "ExecuteTime": {
          "end_time": "2024-03-10T18:15:34.737154500Z",
          "start_time": "2024-03-10T18:15:34.731208500Z"
        }
      },
      "execution_count": null,
      "outputs": []
    },
    {
      "cell_type": "markdown",
      "source": [
        "11. Реалізуйте функцію із завдання 10 без відловлювання помилки, однак за допомогою конструкції if-else."
      ],
      "metadata": {
        "id": "IwpB9_4Jbttd"
      }
    },
    {
      "cell_type": "code",
      "source": [
        "def get_from_dict_ifelse(dictionary, key):\n",
        "    if key in dictionary.keys(): return dictionary[key]\n",
        "    else: print(\"No such key in a dictionary\")"
      ],
      "metadata": {
        "id": "qSEr1bCQbtC1",
        "ExecuteTime": {
          "end_time": "2024-03-10T18:15:36.611453700Z",
          "start_time": "2024-03-10T18:15:36.604942500Z"
        }
      },
      "execution_count": null,
      "outputs": []
    },
    {
      "cell_type": "markdown",
      "source": [
        "12. Реалізуйте функцію з завдання 10, використовуючи метод словника, який дозволяє зробити операцію навіть без if-else."
      ],
      "metadata": {
        "id": "H4iygP7xb7xB"
      }
    },
    {
      "cell_type": "code",
      "source": [
        "def get_from_dict_default(dictionary, key):\n",
        "    return dictionary.get(key, None)"
      ],
      "metadata": {
        "id": "IjFPCfCXcFMF",
        "ExecuteTime": {
          "end_time": "2024-03-10T18:15:38.312907700Z",
          "start_time": "2024-03-10T18:15:38.291543700Z"
        }
      },
      "execution_count": null,
      "outputs": []
    },
    {
      "cell_type": "markdown",
      "source": [
        "13. Визначте функцію, яка обробляє значення, введене користувачем з терміналу, приводячи його до цілого числа. Використайте відловлення відповідної помилки. Наприклад, людина має ввести свій вік."
      ],
      "metadata": {
        "id": "V7UB77SvcFiH"
      }
    },
    {
      "cell_type": "code",
      "source": [
        "def input_age():\n",
        "    age = input(\"Enter your age: \")\n",
        "    try:\n",
        "        age = float(age)\n",
        "    except ValueError:\n",
        "        return None\n",
        "    if age < 0: return None\n",
        "    return int(age)"
      ],
      "metadata": {
        "id": "OEkZInsUce-g",
        "ExecuteTime": {
          "end_time": "2024-03-10T18:15:40.738361300Z",
          "start_time": "2024-03-10T18:15:40.731417700Z"
        }
      },
      "execution_count": null,
      "outputs": []
    },
    {
      "cell_type": "markdown",
      "source": [
        "14. Визначте функцію з завдання 13, де використайте конструкцію if-else замість відловдення помилки."
      ],
      "metadata": {
        "id": "nvQo1fzjcfYI"
      }
    },
    {
      "cell_type": "code",
      "source": [
        "def input_age_ifelse():\n",
        "    age = input(\"Enter your salary: \")\n",
        "    if age.replace(\".\", \"\").isnumeric() and age.count(\".\") <= 1: age = float(age)\n",
        "    else: return None\n",
        "    return int(age)"
      ],
      "metadata": {
        "id": "bQF8LazacpUI",
        "ExecuteTime": {
          "end_time": "2024-03-10T18:15:42.910084500Z",
          "start_time": "2024-03-10T18:15:42.903077600Z"
        }
      },
      "execution_count": null,
      "outputs": []
    },
    {
      "cell_type": "markdown",
      "source": [
        "15. Визначте функцію з завдання 13, враховуючи додаткове обмеження, що число має бути у діапазоні від 18 до 120 (повнолітня людина). Відловіть відповідні типи помилок."
      ],
      "metadata": {
        "id": "l4RoecD_dIj5"
      }
    },
    {
      "cell_type": "code",
      "source": [
        "def input_age_errors():\n",
        "    age = input(\"Enter your age: \")\n",
        "    try:\n",
        "        age = float(age)\n",
        "    except ValueError:\n",
        "        return None\n",
        "    if age < 0: raise ValueError(\"Age can't be negative.\")\n",
        "    if age > 120 or age < 18: raise ValueError(\"Age must be in range of 18 to 120.\")\n",
        "    return int(age)"
      ],
      "metadata": {
        "id": "SeHKtFGTdiyD",
        "ExecuteTime": {
          "end_time": "2024-03-10T18:15:47.518139400Z",
          "start_time": "2024-03-10T18:15:47.508624600Z"
        }
      },
      "execution_count": null,
      "outputs": []
    },
    {
      "cell_type": "markdown",
      "source": [
        "16. Напишіть код, який би генерував максимальну кількість помилок різного типу."
      ],
      "metadata": {
        "id": "MAn64KyreVC4"
      }
    },
    {
      "cell_type": "code",
      "source": [
        "\"12\" += \"13\"\n",
        "\n",
        "print(add_ints(\"1\", {\"Hello\": 123}))\n",
        "\n",
        "number = 23\n",
        "for i in number: print(i)\n",
        "\n",
        "print(\"Hello world!\" + 0)\n",
        "\n",
        "float(\"Definitely a float\")\n",
        "\n",
        "dictionary = {\"a key\": \"a value\"}\n",
        "print(dictionary[\"key\"])\n",
        "\n",
        "a = 12\n",
        "b = 0\n",
        "print(a/b)"
      ],
      "metadata": {
        "id": "DzuV3uQpeb-U",
        "ExecuteTime": {
          "end_time": "2024-03-10T18:15:49.910643800Z",
          "start_time": "2024-03-10T18:15:49.906133600Z"
        },
        "outputId": "8cdb07fa-341c-48c8-f4b3-683a9d374b53"
      },
      "execution_count": null,
      "outputs": [
        {
          "ename": "SyntaxError",
          "evalue": "'literal' is an illegal expression for augmented assignment (1752483110.py, line 1)",
          "output_type": "error",
          "traceback": [
            "\u001b[1;36m  Cell \u001b[1;32mIn[65], line 1\u001b[1;36m\u001b[0m\n\u001b[1;33m    \"12\" += \"13\"\u001b[0m\n\u001b[1;37m    ^\u001b[0m\n\u001b[1;31mSyntaxError\u001b[0m\u001b[1;31m:\u001b[0m 'literal' is an illegal expression for augmented assignment\n"
          ]
        }
      ]
    },
    {
      "cell_type": "markdown",
      "source": [
        "17. Наскільки це можливо, виправте код із завдання 16."
      ],
      "metadata": {
        "id": "5VFbEKQkecMz"
      }
    },
    {
      "cell_type": "code",
      "source": [
        "a = \"12\"\n",
        "a += \"13\"\n",
        "\n",
        "print(add_ints(int(\"1\"), {\"Hello\": 123}[\"Hello\"]))\n",
        "\n",
        "number = 23\n",
        "for i in range(number): print(i)\n",
        "\n",
        "print(\"Hello world!\" + \"0\")\n",
        "\n",
        "try:\n",
        "    float(\"Definitely a float\")\n",
        "except ValueError as e:\n",
        "    print(\"Turns out, it was not a float :(\")\n",
        "\n",
        "dictionary = {\"a key\": \"a value\"}\n",
        "print(dictionary[\"a key\"])\n",
        "\n",
        "a = 12\n",
        "b = 3\n",
        "print(a/b)"
      ],
      "metadata": {
        "id": "peMOBz9ieiur",
        "ExecuteTime": {
          "end_time": "2024-03-10T18:15:52.325295600Z",
          "start_time": "2024-03-10T18:15:52.322293100Z"
        },
        "outputId": "5413cd62-fb38-4e12-8347-839295f701ae"
      },
      "execution_count": null,
      "outputs": [
        {
          "name": "stdout",
          "output_type": "stream",
          "text": [
            "124\n",
            "0\n",
            "1\n",
            "2\n",
            "3\n",
            "4\n",
            "5\n",
            "6\n",
            "7\n",
            "8\n",
            "9\n",
            "10\n",
            "11\n",
            "12\n",
            "13\n",
            "14\n",
            "15\n",
            "16\n",
            "17\n",
            "18\n",
            "19\n",
            "20\n",
            "21\n",
            "22\n",
            "Hello world!0\n",
            "Turns out, it was not a float :(\n",
            "a value\n",
            "4.0\n"
          ]
        }
      ]
    },
    {
      "cell_type": "code",
      "outputs": [],
      "source": [],
      "metadata": {
        "id": "00kADvnklfc8"
      },
      "execution_count": null
    }
  ]
}